{
 "cells": [
  {
   "cell_type": "markdown",
   "metadata": {},
   "source": [
    "# Tutorial 1: Introduction to Machine Learning with Python\n",
    "\n",
    "The goal of this tutorial is to introduce a typical workflow in carrying out ML in Python. This includes, \n",
    "\n",
    "1. accessing and organising data,\n",
    "\n",
    "2. assessing the data,\n",
    "\n",
    "3. visualising the data,\n",
    "\n",
    "4. a) creating training, b) test datasets and c) learning a model using them and evaluating its performance. "
   ]
  },
  {
   "cell_type": "code",
   "execution_count": 2,
   "metadata": {},
   "outputs": [],
   "source": [
    "import numpy as np\n",
    "import pandas\n",
    "\n",
    "from matplotlib import pyplot as plt\n",
    "\n",
    "%matplotlib inline #makes sure whatever you plot using matplotlib is plotted in the same window\n",
    "\n",
    "# Set the default figure size.\n",
    "plt.rcParams[\"figure.figsize\"] = (10, 8)"
   ]
  },
  {
   "cell_type": "markdown",
   "metadata": {},
   "source": [
    "## 1) Load Data \n",
    "\n",
    "Here, we shall load the Iris dataset from a publically available source. \n",
    "\n",
    "This dataset consists of 150 samples of 3 classes of iris plants; each datapoint consists of 4 attributes, the 'sepal-length', 'sepal-width', 'petal-length' and'petal-width'. \n",
    "\n",
    "Once the data has been downloaded, we can organise them into their classes."
   ]
  },
  {
   "cell_type": "code",
   "execution_count": 3,
   "metadata": {},
   "outputs": [
    {
     "name": "stdout",
     "output_type": "stream",
     "text": [
      "     sepal-length  sepal-width  petal-length  petal-width           class\n",
      "0             5.1          3.5           1.4          0.2     Iris-setosa\n",
      "1             4.9          3.0           1.4          0.2     Iris-setosa\n",
      "2             4.7          3.2           1.3          0.2     Iris-setosa\n",
      "3             4.6          3.1           1.5          0.2     Iris-setosa\n",
      "4             5.0          3.6           1.4          0.2     Iris-setosa\n",
      "..            ...          ...           ...          ...             ...\n",
      "145           6.7          3.0           5.2          2.3  Iris-virginica\n",
      "146           6.3          2.5           5.0          1.9  Iris-virginica\n",
      "147           6.5          3.0           5.2          2.0  Iris-virginica\n",
      "148           6.2          3.4           5.4          2.3  Iris-virginica\n",
      "149           5.9          3.0           5.1          1.8  Iris-virginica\n",
      "\n",
      "[150 rows x 5 columns]\n"
     ]
    }
   ],
   "source": [
    "url = \"https://raw.githubusercontent.com/jbrownlee/Datasets/master/iris.csv\"\n",
    "\n",
    "# if loading from web doesn't work, this file is already stored in the repository. Uncomment following if necessary.\n",
    "# url = \"./iris.csv\"\n",
    "\n",
    "column_names = [\"sepal-length\", \"sepal-width\", \"petal-length\", \"petal-width\", \"class\"]\n",
    "class_names = [\"Iris-setosa\", \"Iris-versicolor\", \"Iris-virginica\"]\n",
    "\n",
    "raw_dataset = pandas.read_csv(url, names=column_names)\n",
    "\n",
    "# print the raw dataset\n",
    "print(raw_dataset)\n",
    "\n",
    "# Organise data by class\n",
    "dataset = raw_dataset.groupby('class')"
   ]
  },
  {
   "cell_type": "markdown",
   "metadata": {},
   "source": [
    "## 2) Statistics of the dataset\n",
    "\n",
    "Pandas has some convenience methods that allow us to easily calculate statistical properties of a dataset."
   ]
  },
  {
   "cell_type": "code",
   "execution_count": 4,
   "metadata": {},
   "outputs": [
    {
     "data": {
      "text/html": [
       "<div>\n",
       "<style scoped>\n",
       "    .dataframe tbody tr th:only-of-type {\n",
       "        vertical-align: middle;\n",
       "    }\n",
       "\n",
       "    .dataframe tbody tr th {\n",
       "        vertical-align: top;\n",
       "    }\n",
       "\n",
       "    .dataframe thead th {\n",
       "        text-align: right;\n",
       "    }\n",
       "</style>\n",
       "<table border=\"1\" class=\"dataframe\">\n",
       "  <thead>\n",
       "    <tr style=\"text-align: right;\">\n",
       "      <th></th>\n",
       "      <th>sepal-length</th>\n",
       "      <th>sepal-width</th>\n",
       "      <th>petal-length</th>\n",
       "      <th>petal-width</th>\n",
       "    </tr>\n",
       "    <tr>\n",
       "      <th>class</th>\n",
       "      <th></th>\n",
       "      <th></th>\n",
       "      <th></th>\n",
       "      <th></th>\n",
       "    </tr>\n",
       "  </thead>\n",
       "  <tbody>\n",
       "    <tr>\n",
       "      <th>Iris-setosa</th>\n",
       "      <td>5.006</td>\n",
       "      <td>3.418</td>\n",
       "      <td>1.464</td>\n",
       "      <td>0.244</td>\n",
       "    </tr>\n",
       "    <tr>\n",
       "      <th>Iris-versicolor</th>\n",
       "      <td>5.936</td>\n",
       "      <td>2.770</td>\n",
       "      <td>4.260</td>\n",
       "      <td>1.326</td>\n",
       "    </tr>\n",
       "    <tr>\n",
       "      <th>Iris-virginica</th>\n",
       "      <td>6.588</td>\n",
       "      <td>2.974</td>\n",
       "      <td>5.552</td>\n",
       "      <td>2.026</td>\n",
       "    </tr>\n",
       "  </tbody>\n",
       "</table>\n",
       "</div>"
      ],
      "text/plain": [
       "                 sepal-length  sepal-width  petal-length  petal-width\n",
       "class                                                                \n",
       "Iris-setosa             5.006        3.418         1.464        0.244\n",
       "Iris-versicolor         5.936        2.770         4.260        1.326\n",
       "Iris-virginica          6.588        2.974         5.552        2.026"
      ]
     },
     "execution_count": 4,
     "metadata": {},
     "output_type": "execute_result"
    }
   ],
   "source": [
    "# Calculate the mean of each attribute. E.g\n",
    "\n",
    "dataset.mean()"
   ]
  },
  {
   "cell_type": "code",
   "execution_count": 17,
   "metadata": {},
   "outputs": [
    {
     "data": {
      "text/html": [
       "<div>\n",
       "<style scoped>\n",
       "    .dataframe tbody tr th:only-of-type {\n",
       "        vertical-align: middle;\n",
       "    }\n",
       "\n",
       "    .dataframe tbody tr th {\n",
       "        vertical-align: top;\n",
       "    }\n",
       "\n",
       "    .dataframe thead th {\n",
       "        text-align: right;\n",
       "    }\n",
       "</style>\n",
       "<table border=\"1\" class=\"dataframe\">\n",
       "  <thead>\n",
       "    <tr style=\"text-align: right;\">\n",
       "      <th></th>\n",
       "      <th>sepal-length</th>\n",
       "      <th>sepal-width</th>\n",
       "      <th>petal-length</th>\n",
       "      <th>petal-width</th>\n",
       "    </tr>\n",
       "    <tr>\n",
       "      <th>class</th>\n",
       "      <th></th>\n",
       "      <th></th>\n",
       "      <th></th>\n",
       "      <th></th>\n",
       "    </tr>\n",
       "  </thead>\n",
       "  <tbody>\n",
       "    <tr>\n",
       "      <th>Iris-setosa</th>\n",
       "      <td>0.352490</td>\n",
       "      <td>0.381024</td>\n",
       "      <td>0.173511</td>\n",
       "      <td>0.107210</td>\n",
       "    </tr>\n",
       "    <tr>\n",
       "      <th>Iris-versicolor</th>\n",
       "      <td>0.516171</td>\n",
       "      <td>0.313798</td>\n",
       "      <td>0.469911</td>\n",
       "      <td>0.197753</td>\n",
       "    </tr>\n",
       "    <tr>\n",
       "      <th>Iris-virginica</th>\n",
       "      <td>0.635880</td>\n",
       "      <td>0.322497</td>\n",
       "      <td>0.551895</td>\n",
       "      <td>0.274650</td>\n",
       "    </tr>\n",
       "  </tbody>\n",
       "</table>\n",
       "</div>"
      ],
      "text/plain": [
       "                 sepal-length  sepal-width  petal-length  petal-width\n",
       "class                                                                \n",
       "Iris-setosa          0.352490     0.381024      0.173511     0.107210\n",
       "Iris-versicolor      0.516171     0.313798      0.469911     0.197753\n",
       "Iris-virginica       0.635880     0.322497      0.551895     0.274650"
      ]
     },
     "execution_count": 17,
     "metadata": {},
     "output_type": "execute_result"
    }
   ],
   "source": [
    "# Calculate the standard deviation of each attribute\n",
    "\n",
    "dataset.std()"
   ]
  },
  {
   "cell_type": "code",
   "execution_count": 15,
   "metadata": {},
   "outputs": [
    {
     "data": {
      "text/html": [
       "<div>\n",
       "<style scoped>\n",
       "    .dataframe tbody tr th:only-of-type {\n",
       "        vertical-align: middle;\n",
       "    }\n",
       "\n",
       "    .dataframe tbody tr th {\n",
       "        vertical-align: top;\n",
       "    }\n",
       "\n",
       "    .dataframe thead th {\n",
       "        text-align: right;\n",
       "    }\n",
       "</style>\n",
       "<table border=\"1\" class=\"dataframe\">\n",
       "  <thead>\n",
       "    <tr style=\"text-align: right;\">\n",
       "      <th></th>\n",
       "      <th>sepal-length</th>\n",
       "      <th>sepal-width</th>\n",
       "      <th>petal-length</th>\n",
       "      <th>petal-width</th>\n",
       "    </tr>\n",
       "    <tr>\n",
       "      <th>class</th>\n",
       "      <th></th>\n",
       "      <th></th>\n",
       "      <th></th>\n",
       "      <th></th>\n",
       "    </tr>\n",
       "  </thead>\n",
       "  <tbody>\n",
       "    <tr>\n",
       "      <th>Iris-setosa</th>\n",
       "      <td>4.3</td>\n",
       "      <td>2.3</td>\n",
       "      <td>1.0</td>\n",
       "      <td>0.1</td>\n",
       "    </tr>\n",
       "    <tr>\n",
       "      <th>Iris-versicolor</th>\n",
       "      <td>4.9</td>\n",
       "      <td>2.0</td>\n",
       "      <td>3.0</td>\n",
       "      <td>1.0</td>\n",
       "    </tr>\n",
       "    <tr>\n",
       "      <th>Iris-virginica</th>\n",
       "      <td>4.9</td>\n",
       "      <td>2.2</td>\n",
       "      <td>4.5</td>\n",
       "      <td>1.4</td>\n",
       "    </tr>\n",
       "  </tbody>\n",
       "</table>\n",
       "</div>"
      ],
      "text/plain": [
       "                 sepal-length  sepal-width  petal-length  petal-width\n",
       "class                                                                \n",
       "Iris-setosa               4.3          2.3           1.0          0.1\n",
       "Iris-versicolor           4.9          2.0           3.0          1.0\n",
       "Iris-virginica            4.9          2.2           4.5          1.4"
      ]
     },
     "execution_count": 15,
     "metadata": {},
     "output_type": "execute_result"
    }
   ],
   "source": [
    "# Show the minimum of each attribute\n",
    "dataset.min()"
   ]
  },
  {
   "cell_type": "code",
   "execution_count": 14,
   "metadata": {},
   "outputs": [
    {
     "data": {
      "text/html": [
       "<div>\n",
       "<style scoped>\n",
       "    .dataframe tbody tr th:only-of-type {\n",
       "        vertical-align: middle;\n",
       "    }\n",
       "\n",
       "    .dataframe tbody tr th {\n",
       "        vertical-align: top;\n",
       "    }\n",
       "\n",
       "    .dataframe thead th {\n",
       "        text-align: right;\n",
       "    }\n",
       "</style>\n",
       "<table border=\"1\" class=\"dataframe\">\n",
       "  <thead>\n",
       "    <tr style=\"text-align: right;\">\n",
       "      <th></th>\n",
       "      <th>sepal-length</th>\n",
       "      <th>sepal-width</th>\n",
       "      <th>petal-length</th>\n",
       "      <th>petal-width</th>\n",
       "    </tr>\n",
       "    <tr>\n",
       "      <th>class</th>\n",
       "      <th></th>\n",
       "      <th></th>\n",
       "      <th></th>\n",
       "      <th></th>\n",
       "    </tr>\n",
       "  </thead>\n",
       "  <tbody>\n",
       "    <tr>\n",
       "      <th>Iris-setosa</th>\n",
       "      <td>5.8</td>\n",
       "      <td>4.4</td>\n",
       "      <td>1.9</td>\n",
       "      <td>0.6</td>\n",
       "    </tr>\n",
       "    <tr>\n",
       "      <th>Iris-versicolor</th>\n",
       "      <td>7.0</td>\n",
       "      <td>3.4</td>\n",
       "      <td>5.1</td>\n",
       "      <td>1.8</td>\n",
       "    </tr>\n",
       "    <tr>\n",
       "      <th>Iris-virginica</th>\n",
       "      <td>7.9</td>\n",
       "      <td>3.8</td>\n",
       "      <td>6.9</td>\n",
       "      <td>2.5</td>\n",
       "    </tr>\n",
       "  </tbody>\n",
       "</table>\n",
       "</div>"
      ],
      "text/plain": [
       "                 sepal-length  sepal-width  petal-length  petal-width\n",
       "class                                                                \n",
       "Iris-setosa               5.8          4.4           1.9          0.6\n",
       "Iris-versicolor           7.0          3.4           5.1          1.8\n",
       "Iris-virginica            7.9          3.8           6.9          2.5"
      ]
     },
     "execution_count": 14,
     "metadata": {},
     "output_type": "execute_result"
    }
   ],
   "source": [
    "# Show the maximum of each attribute\n",
    "\n",
    "dataset.max()"
   ]
  },
  {
   "cell_type": "markdown",
   "metadata": {},
   "source": [
    "## 3) Visualise the dataset\n",
    "\n",
    "Pandas has some convenience functions that allow us to easily visualise our dataset.\n",
    "\n",
    "[This is the documentation for the basic plotting tools available in Pandas.](https://pandas.pydata.org/pandas-docs/stable/user_guide/visualization.html)"
   ]
  },
  {
   "cell_type": "code",
   "execution_count": 19,
   "metadata": {},
   "outputs": [
    {
     "data": {
      "text/plain": [
       "<matplotlib.axes._subplots.AxesSubplot at 0x11b6097d0>"
      ]
     },
     "execution_count": 19,
     "metadata": {},
     "output_type": "execute_result"
    },
    {
     "data": {
      "image/png": "[encoded data removed]",
      "text/plain": [
       "<Figure size 720x576 with 1 Axes>"
      ]
     },
     "metadata": {
      "needs_background": "light"
     },
     "output_type": "display_data"
    }
   ],
   "source": [
    "# Try some of them here. \n",
    "# For example, try to plot scatter graphs for the Iris-setosa class:\n",
    "dataset.get_group('Iris-setosa').plot.scatter(x = 'petal-length', y = 'petal-width')\n"
   ]
  },
  {
   "cell_type": "markdown",
   "metadata": {},
   "source": [
    "## 4) Classification using Least Squares\n",
    "\n",
    "Here we will be carrying out classification using the least squares formulation on 2 classes of the dataset. \n",
    "\n",
    "a) Create separate datasets for the classes 'Iris-setosa' and 'Iris-versicolor'."
   ]
  },
  {
   "cell_type": "code",
   "execution_count": 20,
   "metadata": {},
   "outputs": [],
   "source": [
    "setosa = dataset.get_group(\"Iris-setosa\").dropna()\n",
    "versicolor = dataset.get_group(\"Iris-versicolor\").dropna()"
   ]
  },
  {
   "cell_type": "markdown",
   "metadata": {},
   "source": [
    "b) create an output vector $Y^k$, for each class, where $y_i^k = 1$ if $k = $'Iris-setosa' and $-1$ otherwise."
   ]
  },
  {
   "cell_type": "code",
   "execution_count": 26,
   "metadata": {},
   "outputs": [
    {
     "name": "stdout",
     "output_type": "stream",
     "text": [
      "    sepal-length  sepal-width  petal-length  petal-width  Output\n",
      "50           7.0          3.2           4.7          1.4      -1\n",
      "51           6.4          3.2           4.5          1.5      -1\n",
      "52           6.9          3.1           4.9          1.5      -1\n",
      "53           5.5          2.3           4.0          1.3      -1\n",
      "54           6.5          2.8           4.6          1.5      -1\n",
      "55           5.7          2.8           4.5          1.3      -1\n",
      "56           6.3          3.3           4.7          1.6      -1\n",
      "57           4.9          2.4           3.3          1.0      -1\n",
      "58           6.6          2.9           4.6          1.3      -1\n",
      "59           5.2          2.7           3.9          1.4      -1\n",
      "60           5.0          2.0           3.5          1.0      -1\n",
      "61           5.9          3.0           4.2          1.5      -1\n",
      "62           6.0          2.2           4.0          1.0      -1\n",
      "63           6.1          2.9           4.7          1.4      -1\n",
      "64           5.6          2.9           3.6          1.3      -1\n",
      "65           6.7          3.1           4.4          1.4      -1\n",
      "66           5.6          3.0           4.5          1.5      -1\n",
      "67           5.8          2.7           4.1          1.0      -1\n",
      "68           6.2          2.2           4.5          1.5      -1\n",
      "69           5.6          2.5           3.9          1.1      -1\n",
      "70           5.9          3.2           4.8          1.8      -1\n",
      "71           6.1          2.8           4.0          1.3      -1\n",
      "72           6.3          2.5           4.9          1.5      -1\n",
      "73           6.1          2.8           4.7          1.2      -1\n",
      "74           6.4          2.9           4.3          1.3      -1\n",
      "75           6.6          3.0           4.4          1.4      -1\n",
      "76           6.8          2.8           4.8          1.4      -1\n",
      "77           6.7          3.0           5.0          1.7      -1\n",
      "78           6.0          2.9           4.5          1.5      -1\n",
      "79           5.7          2.6           3.5          1.0      -1\n",
      "80           5.5          2.4           3.8          1.1      -1\n",
      "81           5.5          2.4           3.7          1.0      -1\n",
      "82           5.8          2.7           3.9          1.2      -1\n",
      "83           6.0          2.7           5.1          1.6      -1\n",
      "84           5.4          3.0           4.5          1.5      -1\n",
      "85           6.0          3.4           4.5          1.6      -1\n",
      "86           6.7          3.1           4.7          1.5      -1\n",
      "87           6.3          2.3           4.4          1.3      -1\n",
      "88           5.6          3.0           4.1          1.3      -1\n",
      "89           5.5          2.5           4.0          1.3      -1\n",
      "90           5.5          2.6           4.4          1.2      -1\n",
      "91           6.1          3.0           4.6          1.4      -1\n",
      "92           5.8          2.6           4.0          1.2      -1\n",
      "93           5.0          2.3           3.3          1.0      -1\n",
      "94           5.6          2.7           4.2          1.3      -1\n",
      "95           5.7          3.0           4.2          1.2      -1\n",
      "96           5.7          2.9           4.2          1.3      -1\n",
      "97           6.2          2.9           4.3          1.3      -1\n",
      "98           5.1          2.5           3.0          1.1      -1\n",
      "99           5.7          2.8           4.1          1.3      -1\n"
     ]
    }
   ],
   "source": [
    "# Insert code here to update 'setosa' and 'versicolor' DataFrames to include an extra column 'output'.\n",
    "setosa.insert(4, \"Output\", 1)\n",
    "versicolor.insert(4, \"Output\", -1)\n",
    "print(versicolor)"
   ]
  },
  {
   "cell_type": "code",
   "execution_count": null,
   "metadata": {},
   "outputs": [],
   "source": [
    "assert setosa.shape == (50, 5)\n",
    "assert versicolor.shape == (50, 5)"
   ]
  },
  {
   "cell_type": "markdown",
   "metadata": {},
   "source": [
    "c) create training and test datasets, with 20% of the data for testing (80 training points and 20 testing points). "
   ]
  },
  {
   "cell_type": "code",
   "execution_count": 41,
   "metadata": {},
   "outputs": [
    {
     "name": "stdout",
     "output_type": "stream",
     "text": [
      "    sepal-length  sepal-width  petal-length  petal-width  Output\n",
      "5            5.4          3.9           1.7          0.4     1.0\n",
      "6            4.6          3.4           1.4          0.3     1.0\n",
      "13           4.3          3.0           1.1          0.1     1.0\n",
      "19           5.1          3.8           1.5          0.3     1.0\n",
      "26           5.0          3.4           1.6          0.4     1.0\n",
      "29           4.7          3.2           1.6          0.2     1.0\n",
      "32           5.2          4.1           1.5          0.1     1.0\n",
      "37           4.9          3.1           1.5          0.1     1.0\n",
      "46           5.1          3.8           1.6          0.2     1.0\n",
      "47           4.6          3.2           1.4          0.2     1.0\n",
      "49           5.0          3.3           1.4          0.2     1.0\n",
      "52           6.9          3.1           4.9          1.5    -1.0\n",
      "54           6.5          2.8           4.6          1.5    -1.0\n",
      "58           6.6          2.9           4.6          1.3    -1.0\n",
      "61           5.9          3.0           4.2          1.5    -1.0\n",
      "73           6.1          2.8           4.7          1.2    -1.0\n",
      "75           6.6          3.0           4.4          1.4    -1.0\n",
      "89           5.5          2.5           4.0          1.3    -1.0\n",
      "91           6.1          3.0           4.6          1.4    -1.0\n",
      "95           5.7          3.0           4.2          1.2    -1.0\n"
     ]
    }
   ],
   "source": [
    "# Make sure that data from each class is equally distributed.\n",
    "# Create 'training_data' and 'test_data' DataFrames that contain the appropriate number of samples from each class.\n",
    "full_data = pandas.concat([setosa,versicolor])\n",
    "training_data = full_data.sample(80)\n",
    "mask = full_data.isin(training_data)\n",
    "test_data = full_data[~mask].dropna()\n",
    "print(test_data)"
   ]
  },
  {
   "cell_type": "code",
   "execution_count": 42,
   "metadata": {},
   "outputs": [],
   "source": [
    "assert training_data.shape == (80, 5)\n",
    "assert test_data.shape == (20, 5)"
   ]
  },
  {
   "cell_type": "markdown",
   "metadata": {},
   "source": [
    "d) apply the least squares solution to obtain an optimal solution for different combinations of the 4 available attributes."
   ]
  },
  {
   "cell_type": "code",
   "execution_count": 43,
   "metadata": {},
   "outputs": [],
   "source": [
    "# Create all possible combinations of attributes. \n",
    "from itertools import chain, combinations\n",
    "\n",
    "def all_combinations(attributes):\n",
    "    return chain(*map(lambda i: combinations(attributes, i), range(1, len(attributes)+1)))\n",
    "\n",
    "_attributes = [name for name in column_names if name != 'class']\n",
    "attribute_combinations = all_combinations(_attributes) #Note that this is an iterable object. \n",
    "\n",
    "# Complete the function that takes in a list of attributes, and outputs the predictions after carrying out least squares.\n",
    "def return_predictions(attributes, training_data=training_data, testing_data=test_data):    \n",
    "    \n",
    "    X = training_data[attributes].values.reshape(-1, len(attributes))\n",
    "    _ = np.tile(np.array([1])), \n",
    "    \n",
    "    return predictions"
   ]
  },
  {
   "cell_type": "markdown",
   "metadata": {},
   "source": [
    "e) evaluate which input attributes are the best."
   ]
  },
  {
   "cell_type": "code",
   "execution_count": null,
   "metadata": {},
   "outputs": [],
   "source": [
    "# Complete the function below that takes in a predictions vector, and outputs the mean squared error.\n",
    "def return_mse(predictions, testing_data=test_data):\n",
    "    \n",
    "    \n",
    "    return mse\n",
    "\n",
    "# evaluate\n",
    "for attributes in attribute_combinations:\n",
    "    preds = return_predictions(list(attributes))\n",
    "    print(f\"{str(attributes):<70} MSE: {return_mse(preds)}\")"
   ]
  }
 ],
 "metadata": {
  "kernelspec": {
   "display_name": "tutorial_1",
   "language": "python",
   "name": "tutorial_1"
  },
  "language_info": {
   "codemirror_mode": {
    "name": "ipython",
    "version": 3
   },
   "file_extension": ".py",
   "mimetype": "text/x-python",
   "name": "python",
   "nbconvert_exporter": "python",
   "pygments_lexer": "ipython3",
   "version": "3.7.4"
  }
 },
 "nbformat": 4,
 "nbformat_minor": 2
}
